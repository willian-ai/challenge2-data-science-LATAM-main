{
  "cells": [
    {
      "cell_type": "markdown",
      "metadata": {
        "id": "4foVEKhrlqcH"
      },
      "source": [
        "#📌 Extracción"
      ]
    },
    {
      "cell_type": "code",
      "execution_count": 1,
      "metadata": {
        "id": "1--uPM88l7JH"
      },
      "outputs": [],
      "source": [
        "# Importar las librerías necesarias para el análisis\n",
        "import pandas as pd\n",
        "import numpy as np\n",
        "import matplotlib.pyplot as plt\n",
        "import seaborn as sns\n",
        "import plotly.express as px"
      ]
    },
    {
      "cell_type": "code",
      "execution_count": 2,
      "metadata": {},
      "outputs": [
        {
          "data": {
            "text/html": [
              "<div>\n",
              "<style scoped>\n",
              "    .dataframe tbody tr th:only-of-type {\n",
              "        vertical-align: middle;\n",
              "    }\n",
              "\n",
              "    .dataframe tbody tr th {\n",
              "        vertical-align: top;\n",
              "    }\n",
              "\n",
              "    .dataframe thead th {\n",
              "        text-align: right;\n",
              "    }\n",
              "</style>\n",
              "<table border=\"1\" class=\"dataframe\">\n",
              "  <thead>\n",
              "    <tr style=\"text-align: right;\">\n",
              "      <th></th>\n",
              "      <th>customerID</th>\n",
              "      <th>Churn</th>\n",
              "      <th>customer</th>\n",
              "      <th>phone</th>\n",
              "      <th>internet</th>\n",
              "      <th>account</th>\n",
              "    </tr>\n",
              "  </thead>\n",
              "  <tbody>\n",
              "    <tr>\n",
              "      <th>0</th>\n",
              "      <td>0002-ORFBO</td>\n",
              "      <td>No</td>\n",
              "      <td>{'gender': 'Female', 'SeniorCitizen': 0, 'Part...</td>\n",
              "      <td>{'PhoneService': 'Yes', 'MultipleLines': 'No'}</td>\n",
              "      <td>{'InternetService': 'DSL', 'OnlineSecurity': '...</td>\n",
              "      <td>{'Contract': 'One year', 'PaperlessBilling': '...</td>\n",
              "    </tr>\n",
              "    <tr>\n",
              "      <th>1</th>\n",
              "      <td>0003-MKNFE</td>\n",
              "      <td>No</td>\n",
              "      <td>{'gender': 'Male', 'SeniorCitizen': 0, 'Partne...</td>\n",
              "      <td>{'PhoneService': 'Yes', 'MultipleLines': 'Yes'}</td>\n",
              "      <td>{'InternetService': 'DSL', 'OnlineSecurity': '...</td>\n",
              "      <td>{'Contract': 'Month-to-month', 'PaperlessBilli...</td>\n",
              "    </tr>\n",
              "    <tr>\n",
              "      <th>2</th>\n",
              "      <td>0004-TLHLJ</td>\n",
              "      <td>Yes</td>\n",
              "      <td>{'gender': 'Male', 'SeniorCitizen': 0, 'Partne...</td>\n",
              "      <td>{'PhoneService': 'Yes', 'MultipleLines': 'No'}</td>\n",
              "      <td>{'InternetService': 'Fiber optic', 'OnlineSecu...</td>\n",
              "      <td>{'Contract': 'Month-to-month', 'PaperlessBilli...</td>\n",
              "    </tr>\n",
              "    <tr>\n",
              "      <th>3</th>\n",
              "      <td>0011-IGKFF</td>\n",
              "      <td>Yes</td>\n",
              "      <td>{'gender': 'Male', 'SeniorCitizen': 1, 'Partne...</td>\n",
              "      <td>{'PhoneService': 'Yes', 'MultipleLines': 'No'}</td>\n",
              "      <td>{'InternetService': 'Fiber optic', 'OnlineSecu...</td>\n",
              "      <td>{'Contract': 'Month-to-month', 'PaperlessBilli...</td>\n",
              "    </tr>\n",
              "    <tr>\n",
              "      <th>4</th>\n",
              "      <td>0013-EXCHZ</td>\n",
              "      <td>Yes</td>\n",
              "      <td>{'gender': 'Female', 'SeniorCitizen': 1, 'Part...</td>\n",
              "      <td>{'PhoneService': 'Yes', 'MultipleLines': 'No'}</td>\n",
              "      <td>{'InternetService': 'Fiber optic', 'OnlineSecu...</td>\n",
              "      <td>{'Contract': 'Month-to-month', 'PaperlessBilli...</td>\n",
              "    </tr>\n",
              "  </tbody>\n",
              "</table>\n",
              "</div>"
            ],
            "text/plain": [
              "   customerID Churn                                           customer  \\\n",
              "0  0002-ORFBO    No  {'gender': 'Female', 'SeniorCitizen': 0, 'Part...   \n",
              "1  0003-MKNFE    No  {'gender': 'Male', 'SeniorCitizen': 0, 'Partne...   \n",
              "2  0004-TLHLJ   Yes  {'gender': 'Male', 'SeniorCitizen': 0, 'Partne...   \n",
              "3  0011-IGKFF   Yes  {'gender': 'Male', 'SeniorCitizen': 1, 'Partne...   \n",
              "4  0013-EXCHZ   Yes  {'gender': 'Female', 'SeniorCitizen': 1, 'Part...   \n",
              "\n",
              "                                             phone  \\\n",
              "0   {'PhoneService': 'Yes', 'MultipleLines': 'No'}   \n",
              "1  {'PhoneService': 'Yes', 'MultipleLines': 'Yes'}   \n",
              "2   {'PhoneService': 'Yes', 'MultipleLines': 'No'}   \n",
              "3   {'PhoneService': 'Yes', 'MultipleLines': 'No'}   \n",
              "4   {'PhoneService': 'Yes', 'MultipleLines': 'No'}   \n",
              "\n",
              "                                            internet  \\\n",
              "0  {'InternetService': 'DSL', 'OnlineSecurity': '...   \n",
              "1  {'InternetService': 'DSL', 'OnlineSecurity': '...   \n",
              "2  {'InternetService': 'Fiber optic', 'OnlineSecu...   \n",
              "3  {'InternetService': 'Fiber optic', 'OnlineSecu...   \n",
              "4  {'InternetService': 'Fiber optic', 'OnlineSecu...   \n",
              "\n",
              "                                             account  \n",
              "0  {'Contract': 'One year', 'PaperlessBilling': '...  \n",
              "1  {'Contract': 'Month-to-month', 'PaperlessBilli...  \n",
              "2  {'Contract': 'Month-to-month', 'PaperlessBilli...  \n",
              "3  {'Contract': 'Month-to-month', 'PaperlessBilli...  \n",
              "4  {'Contract': 'Month-to-month', 'PaperlessBilli...  "
            ]
          },
          "execution_count": 2,
          "metadata": {},
          "output_type": "execute_result"
        }
      ],
      "source": [
        "# Importar el dataset TelecomX\n",
        "telecom = pd.read_json('TelecomX_Data.json')\n",
        "telecom.head()"
      ]
    },
    {
      "cell_type": "code",
      "execution_count": 3,
      "metadata": {},
      "outputs": [
        {
          "data": {
            "text/plain": [
              "(7267, 6)"
            ]
          },
          "execution_count": 3,
          "metadata": {},
          "output_type": "execute_result"
        }
      ],
      "source": [
        "# Contar el total de filas y columnas\n",
        "telecom.shape"
      ]
    },
    {
      "cell_type": "code",
      "execution_count": 4,
      "metadata": {},
      "outputs": [
        {
          "name": "stdout",
          "output_type": "stream",
          "text": [
            "<class 'pandas.core.frame.DataFrame'>\n",
            "RangeIndex: 7267 entries, 0 to 7266\n",
            "Data columns (total 6 columns):\n",
            " #   Column      Non-Null Count  Dtype \n",
            "---  ------      --------------  ----- \n",
            " 0   customerID  7267 non-null   object\n",
            " 1   Churn       7267 non-null   object\n",
            " 2   customer    7267 non-null   object\n",
            " 3   phone       7267 non-null   object\n",
            " 4   internet    7267 non-null   object\n",
            " 5   account     7267 non-null   object\n",
            "dtypes: object(6)\n",
            "memory usage: 340.8+ KB\n"
          ]
        }
      ],
      "source": [
        "# Información sobre el dataset\n",
        "telecom.info()"
      ]
    },
    {
      "cell_type": "markdown",
      "metadata": {
        "id": "1lSZP8zmmGZu"
      },
      "source": [
        "#🔧 Transformación"
      ]
    },
    {
      "cell_type": "markdown",
      "metadata": {},
      "source": [
        "##### NORMALIZACION DE COLUMNAS ANIDADAS"
      ]
    },
    {
      "cell_type": "code",
      "execution_count": 5,
      "metadata": {},
      "outputs": [
        {
          "data": {
            "text/plain": [
              "['customerID', 'Churn', 'customer', 'phone', 'internet', 'account']"
            ]
          },
          "execution_count": 5,
          "metadata": {},
          "output_type": "execute_result"
        }
      ],
      "source": [
        "columnas = list(telecom.columns)\n",
        "columnas"
      ]
    },
    {
      "cell_type": "code",
      "execution_count": 6,
      "metadata": {
        "id": "bsm-WTLjmHvt"
      },
      "outputs": [],
      "source": [
        "# Normalizar columnas anidadas que se encuentran en el dataframe\n",
        "\n",
        "customer_telecom = pd.json_normalize(telecom['customer'])\n",
        "phone_telecom = pd.json_normalize(telecom['phone'])\n",
        "internet_telecom = pd.json_normalize(telecom['internet'])\n",
        "account_telecom = pd.json_normalize(telecom['account'])\n"
      ]
    },
    {
      "cell_type": "code",
      "execution_count": 7,
      "metadata": {},
      "outputs": [],
      "source": [
        "# Eliminar las columnas del dataframe visualizado al Importar el dataset TelecomX\n",
        "\n",
        "telecom.drop(columns=['customer', 'phone', 'internet', 'account'], inplace=True)"
      ]
    },
    {
      "cell_type": "code",
      "execution_count": 8,
      "metadata": {},
      "outputs": [
        {
          "data": {
            "text/html": [
              "<div>\n",
              "<style scoped>\n",
              "    .dataframe tbody tr th:only-of-type {\n",
              "        vertical-align: middle;\n",
              "    }\n",
              "\n",
              "    .dataframe tbody tr th {\n",
              "        vertical-align: top;\n",
              "    }\n",
              "\n",
              "    .dataframe thead th {\n",
              "        text-align: right;\n",
              "    }\n",
              "</style>\n",
              "<table border=\"1\" class=\"dataframe\">\n",
              "  <thead>\n",
              "    <tr style=\"text-align: right;\">\n",
              "      <th></th>\n",
              "      <th>customerID</th>\n",
              "      <th>Churn</th>\n",
              "      <th>gender</th>\n",
              "      <th>SeniorCitizen</th>\n",
              "      <th>Partner</th>\n",
              "      <th>Dependents</th>\n",
              "      <th>tenure</th>\n",
              "      <th>PhoneService</th>\n",
              "      <th>MultipleLines</th>\n",
              "      <th>InternetService</th>\n",
              "      <th>...</th>\n",
              "      <th>OnlineBackup</th>\n",
              "      <th>DeviceProtection</th>\n",
              "      <th>TechSupport</th>\n",
              "      <th>StreamingTV</th>\n",
              "      <th>StreamingMovies</th>\n",
              "      <th>Contract</th>\n",
              "      <th>PaperlessBilling</th>\n",
              "      <th>PaymentMethod</th>\n",
              "      <th>Charges.Monthly</th>\n",
              "      <th>Charges.Total</th>\n",
              "    </tr>\n",
              "  </thead>\n",
              "  <tbody>\n",
              "    <tr>\n",
              "      <th>0</th>\n",
              "      <td>0002-ORFBO</td>\n",
              "      <td>No</td>\n",
              "      <td>Female</td>\n",
              "      <td>0</td>\n",
              "      <td>Yes</td>\n",
              "      <td>Yes</td>\n",
              "      <td>9</td>\n",
              "      <td>Yes</td>\n",
              "      <td>No</td>\n",
              "      <td>DSL</td>\n",
              "      <td>...</td>\n",
              "      <td>Yes</td>\n",
              "      <td>No</td>\n",
              "      <td>Yes</td>\n",
              "      <td>Yes</td>\n",
              "      <td>No</td>\n",
              "      <td>One year</td>\n",
              "      <td>Yes</td>\n",
              "      <td>Mailed check</td>\n",
              "      <td>65.6</td>\n",
              "      <td>593.3</td>\n",
              "    </tr>\n",
              "    <tr>\n",
              "      <th>1</th>\n",
              "      <td>0003-MKNFE</td>\n",
              "      <td>No</td>\n",
              "      <td>Male</td>\n",
              "      <td>0</td>\n",
              "      <td>No</td>\n",
              "      <td>No</td>\n",
              "      <td>9</td>\n",
              "      <td>Yes</td>\n",
              "      <td>Yes</td>\n",
              "      <td>DSL</td>\n",
              "      <td>...</td>\n",
              "      <td>No</td>\n",
              "      <td>No</td>\n",
              "      <td>No</td>\n",
              "      <td>No</td>\n",
              "      <td>Yes</td>\n",
              "      <td>Month-to-month</td>\n",
              "      <td>No</td>\n",
              "      <td>Mailed check</td>\n",
              "      <td>59.9</td>\n",
              "      <td>542.4</td>\n",
              "    </tr>\n",
              "    <tr>\n",
              "      <th>2</th>\n",
              "      <td>0004-TLHLJ</td>\n",
              "      <td>Yes</td>\n",
              "      <td>Male</td>\n",
              "      <td>0</td>\n",
              "      <td>No</td>\n",
              "      <td>No</td>\n",
              "      <td>4</td>\n",
              "      <td>Yes</td>\n",
              "      <td>No</td>\n",
              "      <td>Fiber optic</td>\n",
              "      <td>...</td>\n",
              "      <td>No</td>\n",
              "      <td>Yes</td>\n",
              "      <td>No</td>\n",
              "      <td>No</td>\n",
              "      <td>No</td>\n",
              "      <td>Month-to-month</td>\n",
              "      <td>Yes</td>\n",
              "      <td>Electronic check</td>\n",
              "      <td>73.9</td>\n",
              "      <td>280.85</td>\n",
              "    </tr>\n",
              "    <tr>\n",
              "      <th>3</th>\n",
              "      <td>0011-IGKFF</td>\n",
              "      <td>Yes</td>\n",
              "      <td>Male</td>\n",
              "      <td>1</td>\n",
              "      <td>Yes</td>\n",
              "      <td>No</td>\n",
              "      <td>13</td>\n",
              "      <td>Yes</td>\n",
              "      <td>No</td>\n",
              "      <td>Fiber optic</td>\n",
              "      <td>...</td>\n",
              "      <td>Yes</td>\n",
              "      <td>Yes</td>\n",
              "      <td>No</td>\n",
              "      <td>Yes</td>\n",
              "      <td>Yes</td>\n",
              "      <td>Month-to-month</td>\n",
              "      <td>Yes</td>\n",
              "      <td>Electronic check</td>\n",
              "      <td>98.0</td>\n",
              "      <td>1237.85</td>\n",
              "    </tr>\n",
              "    <tr>\n",
              "      <th>4</th>\n",
              "      <td>0013-EXCHZ</td>\n",
              "      <td>Yes</td>\n",
              "      <td>Female</td>\n",
              "      <td>1</td>\n",
              "      <td>Yes</td>\n",
              "      <td>No</td>\n",
              "      <td>3</td>\n",
              "      <td>Yes</td>\n",
              "      <td>No</td>\n",
              "      <td>Fiber optic</td>\n",
              "      <td>...</td>\n",
              "      <td>No</td>\n",
              "      <td>No</td>\n",
              "      <td>Yes</td>\n",
              "      <td>Yes</td>\n",
              "      <td>No</td>\n",
              "      <td>Month-to-month</td>\n",
              "      <td>Yes</td>\n",
              "      <td>Mailed check</td>\n",
              "      <td>83.9</td>\n",
              "      <td>267.4</td>\n",
              "    </tr>\n",
              "  </tbody>\n",
              "</table>\n",
              "<p>5 rows × 21 columns</p>\n",
              "</div>"
            ],
            "text/plain": [
              "   customerID Churn  gender  SeniorCitizen Partner Dependents  tenure  \\\n",
              "0  0002-ORFBO    No  Female              0     Yes        Yes       9   \n",
              "1  0003-MKNFE    No    Male              0      No         No       9   \n",
              "2  0004-TLHLJ   Yes    Male              0      No         No       4   \n",
              "3  0011-IGKFF   Yes    Male              1     Yes         No      13   \n",
              "4  0013-EXCHZ   Yes  Female              1     Yes         No       3   \n",
              "\n",
              "  PhoneService MultipleLines InternetService  ... OnlineBackup  \\\n",
              "0          Yes            No             DSL  ...          Yes   \n",
              "1          Yes           Yes             DSL  ...           No   \n",
              "2          Yes            No     Fiber optic  ...           No   \n",
              "3          Yes            No     Fiber optic  ...          Yes   \n",
              "4          Yes            No     Fiber optic  ...           No   \n",
              "\n",
              "  DeviceProtection TechSupport StreamingTV StreamingMovies        Contract  \\\n",
              "0               No         Yes         Yes              No        One year   \n",
              "1               No          No          No             Yes  Month-to-month   \n",
              "2              Yes          No          No              No  Month-to-month   \n",
              "3              Yes          No         Yes             Yes  Month-to-month   \n",
              "4               No         Yes         Yes              No  Month-to-month   \n",
              "\n",
              "  PaperlessBilling     PaymentMethod Charges.Monthly  Charges.Total  \n",
              "0              Yes      Mailed check            65.6          593.3  \n",
              "1               No      Mailed check            59.9          542.4  \n",
              "2              Yes  Electronic check            73.9         280.85  \n",
              "3              Yes  Electronic check            98.0        1237.85  \n",
              "4              Yes      Mailed check            83.9          267.4  \n",
              "\n",
              "[5 rows x 21 columns]"
            ]
          },
          "execution_count": 8,
          "metadata": {},
          "output_type": "execute_result"
        }
      ],
      "source": [
        "# Expandir el dataframe telecom con las nuevas columnas normalizadas y  visualizar los cambios\n",
        "telecom = pd.concat([telecom, customer_telecom, phone_telecom, internet_telecom, account_telecom], axis=1)\n",
        "telecom.head()"
      ]
    },
    {
      "cell_type": "code",
      "execution_count": 9,
      "metadata": {},
      "outputs": [
        {
          "data": {
            "text/plain": [
              "(7267, 21)"
            ]
          },
          "execution_count": 9,
          "metadata": {},
          "output_type": "execute_result"
        }
      ],
      "source": [
        "# Numeros de columnas y filas\n",
        "telecom.shape"
      ]
    },
    {
      "cell_type": "markdown",
      "metadata": {},
      "source": [
        "##### ✅ Consultar el diccionario para comprender mejor el significado de las variables."
      ]
    },
    {
      "cell_type": "code",
      "execution_count": 10,
      "metadata": {},
      "outputs": [
        {
          "data": {
            "text/plain": [
              "Index(['customerID', 'Churn', 'gender', 'SeniorCitizen', 'Partner',\n",
              "       'Dependents', 'tenure', 'PhoneService', 'MultipleLines',\n",
              "       'InternetService', 'OnlineSecurity', 'OnlineBackup', 'DeviceProtection',\n",
              "       'TechSupport', 'StreamingTV', 'StreamingMovies', 'Contract',\n",
              "       'PaperlessBilling', 'PaymentMethod', 'Charges.Monthly',\n",
              "       'Charges.Total'],\n",
              "      dtype='object')"
            ]
          },
          "execution_count": 10,
          "metadata": {},
          "output_type": "execute_result"
        }
      ],
      "source": [
        "# Imprimir todas las columnas del dataframe telecom con sus respectivos nombres\n",
        "telecom.columns"
      ]
    },
    {
      "cell_type": "code",
      "execution_count": 11,
      "metadata": {},
      "outputs": [],
      "source": [
        "# Renombrar las columnas y verificar los cambios realizados\n",
        "telecom = telecom.rename(columns = {\n",
        "    'customerID':'Cliente_id',\n",
        "    'Churn':'Cancelacion',\n",
        "    'gender':'Genero',\n",
        "    'SeniorCitizen':'Adulto_mayor',\n",
        "    'Partner':'Tiene_pareja',\n",
        "    'Dependents':'Tiene_dependientes',\n",
        "    'tenure':'Meses_conectado',\n",
        "    'PhoneService':'Servicio_telefono',\n",
        "    'MultipleLines':'Lineas_multiples',\n",
        "    'InternetService':'Servicio_internet',\n",
        "    'OnlineSecurity':'Seguridad_en_linea',\n",
        "    'OnlineBackup':'Respaldo_en_linea',\n",
        "    'DeviceProtection':'Proeteccion_dispositivo',\n",
        "    'TechSupport':'Soporte_tecnico',\n",
        "    'StreamingTV':'TV_streaming',\n",
        "    'StreamingMovies':'Peliculas_streaming',\n",
        "    'Contract':'Tipo_contrato',\n",
        "    'PaperlessBilling':'Factura_electronica',\n",
        "    'PaymentMethod':'Metodo_pago',\n",
        "    'Charges.Monthly':'Cargos_mensuales',\n",
        "    'Charges.Total':'Cargos_totales'\n",
        "})\n"
      ]
    },
    {
      "cell_type": "markdown",
      "metadata": {},
      "source": [
        "####  ✅ Explorar las columnas del dataset y verificar sus tipos de datos."
      ]
    },
    {
      "cell_type": "code",
      "execution_count": 12,
      "metadata": {},
      "outputs": [
        {
          "name": "stdout",
          "output_type": "stream",
          "text": [
            "<class 'pandas.core.frame.DataFrame'>\n",
            "RangeIndex: 7267 entries, 0 to 7266\n",
            "Data columns (total 21 columns):\n",
            " #   Column                   Non-Null Count  Dtype  \n",
            "---  ------                   --------------  -----  \n",
            " 0   Cliente_id               7267 non-null   object \n",
            " 1   Cancelacion              7267 non-null   object \n",
            " 2   Genero                   7267 non-null   object \n",
            " 3   Adulto_mayor             7267 non-null   int64  \n",
            " 4   Tiene_pareja             7267 non-null   object \n",
            " 5   Tiene_dependientes       7267 non-null   object \n",
            " 6   Meses_conectado          7267 non-null   int64  \n",
            " 7   Servicio_telefono        7267 non-null   object \n",
            " 8   Lineas_multiples         7267 non-null   object \n",
            " 9   Servicio_internet        7267 non-null   object \n",
            " 10  Seguridad_en_linea       7267 non-null   object \n",
            " 11  Respaldo_en_linea        7267 non-null   object \n",
            " 12  Proeteccion_dispositivo  7267 non-null   object \n",
            " 13  Soporte_tecnico          7267 non-null   object \n",
            " 14  TV_streaming             7267 non-null   object \n",
            " 15  Peliculas_streaming      7267 non-null   object \n",
            " 16  Tipo_contrato            7267 non-null   object \n",
            " 17  Factura_electronica      7267 non-null   object \n",
            " 18  Metodo_pago              7267 non-null   object \n",
            " 19  Cargos_mensuales         7267 non-null   float64\n",
            " 20  Cargos_totales           7267 non-null   object \n",
            "dtypes: float64(1), int64(2), object(18)\n",
            "memory usage: 1.2+ MB\n"
          ]
        }
      ],
      "source": [
        "# Observacion de la informacion del dataframe deacuerdo a sus columnas tipos de datos y valores\n",
        "telecom.info()"
      ]
    },
    {
      "cell_type": "code",
      "execution_count": 13,
      "metadata": {},
      "outputs": [
        {
          "data": {
            "text/html": [
              "<div>\n",
              "<style scoped>\n",
              "    .dataframe tbody tr th:only-of-type {\n",
              "        vertical-align: middle;\n",
              "    }\n",
              "\n",
              "    .dataframe tbody tr th {\n",
              "        vertical-align: top;\n",
              "    }\n",
              "\n",
              "    .dataframe thead th {\n",
              "        text-align: right;\n",
              "    }\n",
              "</style>\n",
              "<table border=\"1\" class=\"dataframe\">\n",
              "  <thead>\n",
              "    <tr style=\"text-align: right;\">\n",
              "      <th></th>\n",
              "      <th>Cliente_id</th>\n",
              "      <th>Cancelacion</th>\n",
              "      <th>Genero</th>\n",
              "      <th>Adulto_mayor</th>\n",
              "      <th>Tiene_pareja</th>\n",
              "      <th>Tiene_dependientes</th>\n",
              "      <th>Meses_conectado</th>\n",
              "      <th>Servicio_telefono</th>\n",
              "      <th>Lineas_multiples</th>\n",
              "      <th>Servicio_internet</th>\n",
              "      <th>...</th>\n",
              "      <th>Respaldo_en_linea</th>\n",
              "      <th>Proeteccion_dispositivo</th>\n",
              "      <th>Soporte_tecnico</th>\n",
              "      <th>TV_streaming</th>\n",
              "      <th>Peliculas_streaming</th>\n",
              "      <th>Tipo_contrato</th>\n",
              "      <th>Factura_electronica</th>\n",
              "      <th>Metodo_pago</th>\n",
              "      <th>Cargos_mensuales</th>\n",
              "      <th>Cargos_totales</th>\n",
              "    </tr>\n",
              "  </thead>\n",
              "  <tbody>\n",
              "  </tbody>\n",
              "</table>\n",
              "<p>0 rows × 21 columns</p>\n",
              "</div>"
            ],
            "text/plain": [
              "Empty DataFrame\n",
              "Columns: [Cliente_id, Cancelacion, Genero, Adulto_mayor, Tiene_pareja, Tiene_dependientes, Meses_conectado, Servicio_telefono, Lineas_multiples, Servicio_internet, Seguridad_en_linea, Respaldo_en_linea, Proeteccion_dispositivo, Soporte_tecnico, TV_streaming, Peliculas_streaming, Tipo_contrato, Factura_electronica, Metodo_pago, Cargos_mensuales, Cargos_totales]\n",
              "Index: []\n",
              "\n",
              "[0 rows x 21 columns]"
            ]
          },
          "execution_count": 13,
          "metadata": {},
          "output_type": "execute_result"
        }
      ],
      "source": [
        "# Buscar en el dataframe valores duplicados\n",
        "telecom[telecom.duplicated()]\n"
      ]
    },
    {
      "cell_type": "code",
      "execution_count": 14,
      "metadata": {},
      "outputs": [
        {
          "data": {
            "text/plain": [
              "np.int64(0)"
            ]
          },
          "execution_count": 14,
          "metadata": {},
          "output_type": "execute_result"
        }
      ],
      "source": [
        "# Conocer si hay valores duplicados\n",
        "telecom.duplicated().sum()"
      ]
    },
    {
      "cell_type": "code",
      "execution_count": 15,
      "metadata": {},
      "outputs": [
        {
          "data": {
            "text/plain": [
              "Cliente_id                 0\n",
              "Cancelacion                0\n",
              "Genero                     0\n",
              "Adulto_mayor               0\n",
              "Tiene_pareja               0\n",
              "Tiene_dependientes         0\n",
              "Meses_conectado            0\n",
              "Servicio_telefono          0\n",
              "Lineas_multiples           0\n",
              "Servicio_internet          0\n",
              "Seguridad_en_linea         0\n",
              "Respaldo_en_linea          0\n",
              "Proeteccion_dispositivo    0\n",
              "Soporte_tecnico            0\n",
              "TV_streaming               0\n",
              "Peliculas_streaming        0\n",
              "Tipo_contrato              0\n",
              "Factura_electronica        0\n",
              "Metodo_pago                0\n",
              "Cargos_mensuales           0\n",
              "Cargos_totales             0\n",
              "dtype: int64"
            ]
          },
          "execution_count": 15,
          "metadata": {},
          "output_type": "execute_result"
        }
      ],
      "source": [
        "# Buscar valores Nulos\n",
        "telecom.isnull().sum()"
      ]
    },
    {
      "cell_type": "code",
      "execution_count": 16,
      "metadata": {},
      "outputs": [
        {
          "data": {
            "text/html": [
              "<div>\n",
              "<style scoped>\n",
              "    .dataframe tbody tr th:only-of-type {\n",
              "        vertical-align: middle;\n",
              "    }\n",
              "\n",
              "    .dataframe tbody tr th {\n",
              "        vertical-align: top;\n",
              "    }\n",
              "\n",
              "    .dataframe thead th {\n",
              "        text-align: right;\n",
              "    }\n",
              "</style>\n",
              "<table border=\"1\" class=\"dataframe\">\n",
              "  <thead>\n",
              "    <tr style=\"text-align: right;\">\n",
              "      <th></th>\n",
              "      <th>Cliente_id</th>\n",
              "      <th>Cancelacion</th>\n",
              "      <th>Genero</th>\n",
              "      <th>Adulto_mayor</th>\n",
              "      <th>Tiene_pareja</th>\n",
              "      <th>Tiene_dependientes</th>\n",
              "      <th>Meses_conectado</th>\n",
              "      <th>Servicio_telefono</th>\n",
              "      <th>Lineas_multiples</th>\n",
              "      <th>Servicio_internet</th>\n",
              "      <th>...</th>\n",
              "      <th>Respaldo_en_linea</th>\n",
              "      <th>Proeteccion_dispositivo</th>\n",
              "      <th>Soporte_tecnico</th>\n",
              "      <th>TV_streaming</th>\n",
              "      <th>Peliculas_streaming</th>\n",
              "      <th>Tipo_contrato</th>\n",
              "      <th>Factura_electronica</th>\n",
              "      <th>Metodo_pago</th>\n",
              "      <th>Cargos_mensuales</th>\n",
              "      <th>Cargos_totales</th>\n",
              "    </tr>\n",
              "  </thead>\n",
              "  <tbody>\n",
              "    <tr>\n",
              "      <th>0</th>\n",
              "      <td>0002-ORFBO</td>\n",
              "      <td>No</td>\n",
              "      <td>Female</td>\n",
              "      <td>0</td>\n",
              "      <td>Yes</td>\n",
              "      <td>Yes</td>\n",
              "      <td>9</td>\n",
              "      <td>Yes</td>\n",
              "      <td>No</td>\n",
              "      <td>DSL</td>\n",
              "      <td>...</td>\n",
              "      <td>Yes</td>\n",
              "      <td>No</td>\n",
              "      <td>Yes</td>\n",
              "      <td>Yes</td>\n",
              "      <td>No</td>\n",
              "      <td>One year</td>\n",
              "      <td>Yes</td>\n",
              "      <td>Mailed check</td>\n",
              "      <td>65.6</td>\n",
              "      <td>593.3</td>\n",
              "    </tr>\n",
              "    <tr>\n",
              "      <th>1</th>\n",
              "      <td>0003-MKNFE</td>\n",
              "      <td>No</td>\n",
              "      <td>Male</td>\n",
              "      <td>0</td>\n",
              "      <td>No</td>\n",
              "      <td>No</td>\n",
              "      <td>9</td>\n",
              "      <td>Yes</td>\n",
              "      <td>Yes</td>\n",
              "      <td>DSL</td>\n",
              "      <td>...</td>\n",
              "      <td>No</td>\n",
              "      <td>No</td>\n",
              "      <td>No</td>\n",
              "      <td>No</td>\n",
              "      <td>Yes</td>\n",
              "      <td>Month-to-month</td>\n",
              "      <td>No</td>\n",
              "      <td>Mailed check</td>\n",
              "      <td>59.9</td>\n",
              "      <td>542.4</td>\n",
              "    </tr>\n",
              "    <tr>\n",
              "      <th>2</th>\n",
              "      <td>0004-TLHLJ</td>\n",
              "      <td>Yes</td>\n",
              "      <td>Male</td>\n",
              "      <td>0</td>\n",
              "      <td>No</td>\n",
              "      <td>No</td>\n",
              "      <td>4</td>\n",
              "      <td>Yes</td>\n",
              "      <td>No</td>\n",
              "      <td>Fiber optic</td>\n",
              "      <td>...</td>\n",
              "      <td>No</td>\n",
              "      <td>Yes</td>\n",
              "      <td>No</td>\n",
              "      <td>No</td>\n",
              "      <td>No</td>\n",
              "      <td>Month-to-month</td>\n",
              "      <td>Yes</td>\n",
              "      <td>Electronic check</td>\n",
              "      <td>73.9</td>\n",
              "      <td>280.85</td>\n",
              "    </tr>\n",
              "    <tr>\n",
              "      <th>3</th>\n",
              "      <td>0011-IGKFF</td>\n",
              "      <td>Yes</td>\n",
              "      <td>Male</td>\n",
              "      <td>1</td>\n",
              "      <td>Yes</td>\n",
              "      <td>No</td>\n",
              "      <td>13</td>\n",
              "      <td>Yes</td>\n",
              "      <td>No</td>\n",
              "      <td>Fiber optic</td>\n",
              "      <td>...</td>\n",
              "      <td>Yes</td>\n",
              "      <td>Yes</td>\n",
              "      <td>No</td>\n",
              "      <td>Yes</td>\n",
              "      <td>Yes</td>\n",
              "      <td>Month-to-month</td>\n",
              "      <td>Yes</td>\n",
              "      <td>Electronic check</td>\n",
              "      <td>98.0</td>\n",
              "      <td>1237.85</td>\n",
              "    </tr>\n",
              "    <tr>\n",
              "      <th>4</th>\n",
              "      <td>0013-EXCHZ</td>\n",
              "      <td>Yes</td>\n",
              "      <td>Female</td>\n",
              "      <td>1</td>\n",
              "      <td>Yes</td>\n",
              "      <td>No</td>\n",
              "      <td>3</td>\n",
              "      <td>Yes</td>\n",
              "      <td>No</td>\n",
              "      <td>Fiber optic</td>\n",
              "      <td>...</td>\n",
              "      <td>No</td>\n",
              "      <td>No</td>\n",
              "      <td>Yes</td>\n",
              "      <td>Yes</td>\n",
              "      <td>No</td>\n",
              "      <td>Month-to-month</td>\n",
              "      <td>Yes</td>\n",
              "      <td>Mailed check</td>\n",
              "      <td>83.9</td>\n",
              "      <td>267.4</td>\n",
              "    </tr>\n",
              "  </tbody>\n",
              "</table>\n",
              "<p>5 rows × 21 columns</p>\n",
              "</div>"
            ],
            "text/plain": [
              "   Cliente_id Cancelacion  Genero  Adulto_mayor Tiene_pareja  \\\n",
              "0  0002-ORFBO          No  Female             0          Yes   \n",
              "1  0003-MKNFE          No    Male             0           No   \n",
              "2  0004-TLHLJ         Yes    Male             0           No   \n",
              "3  0011-IGKFF         Yes    Male             1          Yes   \n",
              "4  0013-EXCHZ         Yes  Female             1          Yes   \n",
              "\n",
              "  Tiene_dependientes  Meses_conectado Servicio_telefono Lineas_multiples  \\\n",
              "0                Yes                9               Yes               No   \n",
              "1                 No                9               Yes              Yes   \n",
              "2                 No                4               Yes               No   \n",
              "3                 No               13               Yes               No   \n",
              "4                 No                3               Yes               No   \n",
              "\n",
              "  Servicio_internet  ... Respaldo_en_linea Proeteccion_dispositivo  \\\n",
              "0               DSL  ...               Yes                      No   \n",
              "1               DSL  ...                No                      No   \n",
              "2       Fiber optic  ...                No                     Yes   \n",
              "3       Fiber optic  ...               Yes                     Yes   \n",
              "4       Fiber optic  ...                No                      No   \n",
              "\n",
              "  Soporte_tecnico TV_streaming Peliculas_streaming   Tipo_contrato  \\\n",
              "0             Yes          Yes                  No        One year   \n",
              "1              No           No                 Yes  Month-to-month   \n",
              "2              No           No                  No  Month-to-month   \n",
              "3              No          Yes                 Yes  Month-to-month   \n",
              "4             Yes          Yes                  No  Month-to-month   \n",
              "\n",
              "  Factura_electronica       Metodo_pago Cargos_mensuales  Cargos_totales  \n",
              "0                 Yes      Mailed check             65.6           593.3  \n",
              "1                  No      Mailed check             59.9           542.4  \n",
              "2                 Yes  Electronic check             73.9          280.85  \n",
              "3                 Yes  Electronic check             98.0         1237.85  \n",
              "4                 Yes      Mailed check             83.9           267.4  \n",
              "\n",
              "[5 rows x 21 columns]"
            ]
          },
          "execution_count": 16,
          "metadata": {},
          "output_type": "execute_result"
        }
      ],
      "source": [
        "telecom.reset_index(inplace=True, drop=True)\n",
        "telecom.head()"
      ]
    },
    {
      "cell_type": "code",
      "execution_count": 17,
      "metadata": {},
      "outputs": [
        {
          "data": {
            "text/plain": [
              "Cliente_id                  object\n",
              "Cancelacion                 object\n",
              "Genero                      object\n",
              "Adulto_mayor                 int64\n",
              "Tiene_pareja                object\n",
              "Tiene_dependientes          object\n",
              "Meses_conectado              int64\n",
              "Servicio_telefono           object\n",
              "Lineas_multiples            object\n",
              "Servicio_internet           object\n",
              "Seguridad_en_linea          object\n",
              "Respaldo_en_linea           object\n",
              "Proeteccion_dispositivo     object\n",
              "Soporte_tecnico             object\n",
              "TV_streaming                object\n",
              "Peliculas_streaming         object\n",
              "Tipo_contrato               object\n",
              "Factura_electronica         object\n",
              "Metodo_pago                 object\n",
              "Cargos_mensuales           float64\n",
              "Cargos_totales              object\n",
              "dtype: object"
            ]
          },
          "execution_count": 17,
          "metadata": {},
          "output_type": "execute_result"
        }
      ],
      "source": [
        "telecom.dtypes"
      ]
    },
    {
      "cell_type": "code",
      "execution_count": 18,
      "metadata": {},
      "outputs": [
        {
          "name": "stdout",
          "output_type": "stream",
          "text": [
            "<class 'pandas.core.series.Series'>\n",
            "RangeIndex: 7267 entries, 0 to 7266\n",
            "Series name: Cargos_totales\n",
            "Non-Null Count  Dtype  \n",
            "--------------  -----  \n",
            "7256 non-null   float64\n",
            "dtypes: float64(1)\n",
            "memory usage: 56.9 KB\n"
          ]
        }
      ],
      "source": [
        "telecom['Cargos_totales'] = telecom['Cargos_totales'].str.replace('$', '').replace(',','').replace(' ', '').replace('', None)\n",
        "# transformar los valores de la columna 'Cargos_totales' en un número decimal\n",
        "telecom['Cargos_totales'] = telecom['Cargos_totales'].astype(float)\n",
        "telecom['Cargos_totales'].info()"
      ]
    },
    {
      "cell_type": "code",
      "execution_count": 19,
      "metadata": {},
      "outputs": [
        {
          "data": {
            "text/plain": [
              "Cargos_totales\n",
              "False    7256\n",
              "True       11\n",
              "Name: count, dtype: int64"
            ]
          },
          "execution_count": 19,
          "metadata": {},
          "output_type": "execute_result"
        }
      ],
      "source": [
        "# distinguir cantidad de valores nulos y flotantes\n",
        "telecom['Cargos_totales'].isna().value_counts()"
      ]
    },
    {
      "cell_type": "code",
      "execution_count": 20,
      "metadata": {},
      "outputs": [
        {
          "data": {
            "text/html": [
              "<div>\n",
              "<style scoped>\n",
              "    .dataframe tbody tr th:only-of-type {\n",
              "        vertical-align: middle;\n",
              "    }\n",
              "\n",
              "    .dataframe tbody tr th {\n",
              "        vertical-align: top;\n",
              "    }\n",
              "\n",
              "    .dataframe thead th {\n",
              "        text-align: right;\n",
              "    }\n",
              "</style>\n",
              "<table border=\"1\" class=\"dataframe\">\n",
              "  <thead>\n",
              "    <tr style=\"text-align: right;\">\n",
              "      <th></th>\n",
              "      <th>Cliente_id</th>\n",
              "      <th>Cancelacion</th>\n",
              "      <th>Genero</th>\n",
              "      <th>Adulto_mayor</th>\n",
              "      <th>Tiene_pareja</th>\n",
              "      <th>Tiene_dependientes</th>\n",
              "      <th>Meses_conectado</th>\n",
              "      <th>Servicio_telefono</th>\n",
              "      <th>Lineas_multiples</th>\n",
              "      <th>Servicio_internet</th>\n",
              "      <th>...</th>\n",
              "      <th>Respaldo_en_linea</th>\n",
              "      <th>Proeteccion_dispositivo</th>\n",
              "      <th>Soporte_tecnico</th>\n",
              "      <th>TV_streaming</th>\n",
              "      <th>Peliculas_streaming</th>\n",
              "      <th>Tipo_contrato</th>\n",
              "      <th>Factura_electronica</th>\n",
              "      <th>Metodo_pago</th>\n",
              "      <th>Cargos_mensuales</th>\n",
              "      <th>Cargos_totales</th>\n",
              "    </tr>\n",
              "  </thead>\n",
              "  <tbody>\n",
              "    <tr>\n",
              "      <th>975</th>\n",
              "      <td>1371-DWPAZ</td>\n",
              "      <td>No</td>\n",
              "      <td>Female</td>\n",
              "      <td>0</td>\n",
              "      <td>Yes</td>\n",
              "      <td>Yes</td>\n",
              "      <td>0</td>\n",
              "      <td>No</td>\n",
              "      <td>No phone service</td>\n",
              "      <td>DSL</td>\n",
              "      <td>...</td>\n",
              "      <td>Yes</td>\n",
              "      <td>Yes</td>\n",
              "      <td>Yes</td>\n",
              "      <td>Yes</td>\n",
              "      <td>No</td>\n",
              "      <td>Two year</td>\n",
              "      <td>No</td>\n",
              "      <td>Credit card (automatic)</td>\n",
              "      <td>56.05</td>\n",
              "      <td>NaN</td>\n",
              "    </tr>\n",
              "    <tr>\n",
              "      <th>1775</th>\n",
              "      <td>2520-SGTTA</td>\n",
              "      <td>No</td>\n",
              "      <td>Female</td>\n",
              "      <td>0</td>\n",
              "      <td>Yes</td>\n",
              "      <td>Yes</td>\n",
              "      <td>0</td>\n",
              "      <td>Yes</td>\n",
              "      <td>No</td>\n",
              "      <td>No</td>\n",
              "      <td>...</td>\n",
              "      <td>No internet service</td>\n",
              "      <td>No internet service</td>\n",
              "      <td>No internet service</td>\n",
              "      <td>No internet service</td>\n",
              "      <td>No internet service</td>\n",
              "      <td>Two year</td>\n",
              "      <td>No</td>\n",
              "      <td>Mailed check</td>\n",
              "      <td>20.00</td>\n",
              "      <td>NaN</td>\n",
              "    </tr>\n",
              "    <tr>\n",
              "      <th>1955</th>\n",
              "      <td>2775-SEFEE</td>\n",
              "      <td>No</td>\n",
              "      <td>Male</td>\n",
              "      <td>0</td>\n",
              "      <td>No</td>\n",
              "      <td>Yes</td>\n",
              "      <td>0</td>\n",
              "      <td>Yes</td>\n",
              "      <td>Yes</td>\n",
              "      <td>DSL</td>\n",
              "      <td>...</td>\n",
              "      <td>Yes</td>\n",
              "      <td>No</td>\n",
              "      <td>Yes</td>\n",
              "      <td>No</td>\n",
              "      <td>No</td>\n",
              "      <td>Two year</td>\n",
              "      <td>Yes</td>\n",
              "      <td>Bank transfer (automatic)</td>\n",
              "      <td>61.90</td>\n",
              "      <td>NaN</td>\n",
              "    </tr>\n",
              "    <tr>\n",
              "      <th>2075</th>\n",
              "      <td>2923-ARZLG</td>\n",
              "      <td>No</td>\n",
              "      <td>Male</td>\n",
              "      <td>0</td>\n",
              "      <td>Yes</td>\n",
              "      <td>Yes</td>\n",
              "      <td>0</td>\n",
              "      <td>Yes</td>\n",
              "      <td>No</td>\n",
              "      <td>No</td>\n",
              "      <td>...</td>\n",
              "      <td>No internet service</td>\n",
              "      <td>No internet service</td>\n",
              "      <td>No internet service</td>\n",
              "      <td>No internet service</td>\n",
              "      <td>No internet service</td>\n",
              "      <td>One year</td>\n",
              "      <td>Yes</td>\n",
              "      <td>Mailed check</td>\n",
              "      <td>19.70</td>\n",
              "      <td>NaN</td>\n",
              "    </tr>\n",
              "    <tr>\n",
              "      <th>2232</th>\n",
              "      <td>3115-CZMZD</td>\n",
              "      <td>No</td>\n",
              "      <td>Male</td>\n",
              "      <td>0</td>\n",
              "      <td>No</td>\n",
              "      <td>Yes</td>\n",
              "      <td>0</td>\n",
              "      <td>Yes</td>\n",
              "      <td>No</td>\n",
              "      <td>No</td>\n",
              "      <td>...</td>\n",
              "      <td>No internet service</td>\n",
              "      <td>No internet service</td>\n",
              "      <td>No internet service</td>\n",
              "      <td>No internet service</td>\n",
              "      <td>No internet service</td>\n",
              "      <td>Two year</td>\n",
              "      <td>No</td>\n",
              "      <td>Mailed check</td>\n",
              "      <td>20.25</td>\n",
              "      <td>NaN</td>\n",
              "    </tr>\n",
              "    <tr>\n",
              "      <th>2308</th>\n",
              "      <td>3213-VVOLG</td>\n",
              "      <td>No</td>\n",
              "      <td>Male</td>\n",
              "      <td>0</td>\n",
              "      <td>Yes</td>\n",
              "      <td>Yes</td>\n",
              "      <td>0</td>\n",
              "      <td>Yes</td>\n",
              "      <td>Yes</td>\n",
              "      <td>No</td>\n",
              "      <td>...</td>\n",
              "      <td>No internet service</td>\n",
              "      <td>No internet service</td>\n",
              "      <td>No internet service</td>\n",
              "      <td>No internet service</td>\n",
              "      <td>No internet service</td>\n",
              "      <td>Two year</td>\n",
              "      <td>No</td>\n",
              "      <td>Mailed check</td>\n",
              "      <td>25.35</td>\n",
              "      <td>NaN</td>\n",
              "    </tr>\n",
              "    <tr>\n",
              "      <th>2930</th>\n",
              "      <td>4075-WKNIU</td>\n",
              "      <td>No</td>\n",
              "      <td>Female</td>\n",
              "      <td>0</td>\n",
              "      <td>Yes</td>\n",
              "      <td>Yes</td>\n",
              "      <td>0</td>\n",
              "      <td>Yes</td>\n",
              "      <td>Yes</td>\n",
              "      <td>DSL</td>\n",
              "      <td>...</td>\n",
              "      <td>Yes</td>\n",
              "      <td>Yes</td>\n",
              "      <td>Yes</td>\n",
              "      <td>Yes</td>\n",
              "      <td>No</td>\n",
              "      <td>Two year</td>\n",
              "      <td>No</td>\n",
              "      <td>Mailed check</td>\n",
              "      <td>73.35</td>\n",
              "      <td>NaN</td>\n",
              "    </tr>\n",
              "    <tr>\n",
              "      <th>3134</th>\n",
              "      <td>4367-NUYAO</td>\n",
              "      <td>No</td>\n",
              "      <td>Male</td>\n",
              "      <td>0</td>\n",
              "      <td>Yes</td>\n",
              "      <td>Yes</td>\n",
              "      <td>0</td>\n",
              "      <td>Yes</td>\n",
              "      <td>Yes</td>\n",
              "      <td>No</td>\n",
              "      <td>...</td>\n",
              "      <td>No internet service</td>\n",
              "      <td>No internet service</td>\n",
              "      <td>No internet service</td>\n",
              "      <td>No internet service</td>\n",
              "      <td>No internet service</td>\n",
              "      <td>Two year</td>\n",
              "      <td>No</td>\n",
              "      <td>Mailed check</td>\n",
              "      <td>25.75</td>\n",
              "      <td>NaN</td>\n",
              "    </tr>\n",
              "    <tr>\n",
              "      <th>3203</th>\n",
              "      <td>4472-LVYGI</td>\n",
              "      <td>No</td>\n",
              "      <td>Female</td>\n",
              "      <td>0</td>\n",
              "      <td>Yes</td>\n",
              "      <td>Yes</td>\n",
              "      <td>0</td>\n",
              "      <td>No</td>\n",
              "      <td>No phone service</td>\n",
              "      <td>DSL</td>\n",
              "      <td>...</td>\n",
              "      <td>No</td>\n",
              "      <td>Yes</td>\n",
              "      <td>Yes</td>\n",
              "      <td>Yes</td>\n",
              "      <td>No</td>\n",
              "      <td>Two year</td>\n",
              "      <td>Yes</td>\n",
              "      <td>Bank transfer (automatic)</td>\n",
              "      <td>52.55</td>\n",
              "      <td>NaN</td>\n",
              "    </tr>\n",
              "    <tr>\n",
              "      <th>4169</th>\n",
              "      <td>5709-LVOEQ</td>\n",
              "      <td>No</td>\n",
              "      <td>Female</td>\n",
              "      <td>0</td>\n",
              "      <td>Yes</td>\n",
              "      <td>Yes</td>\n",
              "      <td>0</td>\n",
              "      <td>Yes</td>\n",
              "      <td>No</td>\n",
              "      <td>DSL</td>\n",
              "      <td>...</td>\n",
              "      <td>Yes</td>\n",
              "      <td>Yes</td>\n",
              "      <td>No</td>\n",
              "      <td>Yes</td>\n",
              "      <td>Yes</td>\n",
              "      <td>Two year</td>\n",
              "      <td>No</td>\n",
              "      <td>Mailed check</td>\n",
              "      <td>80.85</td>\n",
              "      <td>NaN</td>\n",
              "    </tr>\n",
              "    <tr>\n",
              "      <th>5599</th>\n",
              "      <td>7644-OMVMY</td>\n",
              "      <td>No</td>\n",
              "      <td>Male</td>\n",
              "      <td>0</td>\n",
              "      <td>Yes</td>\n",
              "      <td>Yes</td>\n",
              "      <td>0</td>\n",
              "      <td>Yes</td>\n",
              "      <td>No</td>\n",
              "      <td>No</td>\n",
              "      <td>...</td>\n",
              "      <td>No internet service</td>\n",
              "      <td>No internet service</td>\n",
              "      <td>No internet service</td>\n",
              "      <td>No internet service</td>\n",
              "      <td>No internet service</td>\n",
              "      <td>Two year</td>\n",
              "      <td>No</td>\n",
              "      <td>Mailed check</td>\n",
              "      <td>19.85</td>\n",
              "      <td>NaN</td>\n",
              "    </tr>\n",
              "  </tbody>\n",
              "</table>\n",
              "<p>11 rows × 21 columns</p>\n",
              "</div>"
            ],
            "text/plain": [
              "      Cliente_id Cancelacion  Genero  Adulto_mayor Tiene_pareja  \\\n",
              "975   1371-DWPAZ          No  Female             0          Yes   \n",
              "1775  2520-SGTTA          No  Female             0          Yes   \n",
              "1955  2775-SEFEE          No    Male             0           No   \n",
              "2075  2923-ARZLG          No    Male             0          Yes   \n",
              "2232  3115-CZMZD          No    Male             0           No   \n",
              "2308  3213-VVOLG          No    Male             0          Yes   \n",
              "2930  4075-WKNIU          No  Female             0          Yes   \n",
              "3134  4367-NUYAO          No    Male             0          Yes   \n",
              "3203  4472-LVYGI          No  Female             0          Yes   \n",
              "4169  5709-LVOEQ          No  Female             0          Yes   \n",
              "5599  7644-OMVMY          No    Male             0          Yes   \n",
              "\n",
              "     Tiene_dependientes  Meses_conectado Servicio_telefono  Lineas_multiples  \\\n",
              "975                 Yes                0                No  No phone service   \n",
              "1775                Yes                0               Yes                No   \n",
              "1955                Yes                0               Yes               Yes   \n",
              "2075                Yes                0               Yes                No   \n",
              "2232                Yes                0               Yes                No   \n",
              "2308                Yes                0               Yes               Yes   \n",
              "2930                Yes                0               Yes               Yes   \n",
              "3134                Yes                0               Yes               Yes   \n",
              "3203                Yes                0                No  No phone service   \n",
              "4169                Yes                0               Yes                No   \n",
              "5599                Yes                0               Yes                No   \n",
              "\n",
              "     Servicio_internet  ...    Respaldo_en_linea Proeteccion_dispositivo  \\\n",
              "975                DSL  ...                  Yes                     Yes   \n",
              "1775                No  ...  No internet service     No internet service   \n",
              "1955               DSL  ...                  Yes                      No   \n",
              "2075                No  ...  No internet service     No internet service   \n",
              "2232                No  ...  No internet service     No internet service   \n",
              "2308                No  ...  No internet service     No internet service   \n",
              "2930               DSL  ...                  Yes                     Yes   \n",
              "3134                No  ...  No internet service     No internet service   \n",
              "3203               DSL  ...                   No                     Yes   \n",
              "4169               DSL  ...                  Yes                     Yes   \n",
              "5599                No  ...  No internet service     No internet service   \n",
              "\n",
              "          Soporte_tecnico         TV_streaming  Peliculas_streaming  \\\n",
              "975                   Yes                  Yes                   No   \n",
              "1775  No internet service  No internet service  No internet service   \n",
              "1955                  Yes                   No                   No   \n",
              "2075  No internet service  No internet service  No internet service   \n",
              "2232  No internet service  No internet service  No internet service   \n",
              "2308  No internet service  No internet service  No internet service   \n",
              "2930                  Yes                  Yes                   No   \n",
              "3134  No internet service  No internet service  No internet service   \n",
              "3203                  Yes                  Yes                   No   \n",
              "4169                   No                  Yes                  Yes   \n",
              "5599  No internet service  No internet service  No internet service   \n",
              "\n",
              "     Tipo_contrato Factura_electronica                Metodo_pago  \\\n",
              "975       Two year                  No    Credit card (automatic)   \n",
              "1775      Two year                  No               Mailed check   \n",
              "1955      Two year                 Yes  Bank transfer (automatic)   \n",
              "2075      One year                 Yes               Mailed check   \n",
              "2232      Two year                  No               Mailed check   \n",
              "2308      Two year                  No               Mailed check   \n",
              "2930      Two year                  No               Mailed check   \n",
              "3134      Two year                  No               Mailed check   \n",
              "3203      Two year                 Yes  Bank transfer (automatic)   \n",
              "4169      Two year                  No               Mailed check   \n",
              "5599      Two year                  No               Mailed check   \n",
              "\n",
              "     Cargos_mensuales  Cargos_totales  \n",
              "975             56.05             NaN  \n",
              "1775            20.00             NaN  \n",
              "1955            61.90             NaN  \n",
              "2075            19.70             NaN  \n",
              "2232            20.25             NaN  \n",
              "2308            25.35             NaN  \n",
              "2930            73.35             NaN  \n",
              "3134            25.75             NaN  \n",
              "3203            52.55             NaN  \n",
              "4169            80.85             NaN  \n",
              "5599            19.85             NaN  \n",
              "\n",
              "[11 rows x 21 columns]"
            ]
          },
          "execution_count": 20,
          "metadata": {},
          "output_type": "execute_result"
        }
      ],
      "source": [
        "# crear una variable con los valores nulos y visualizar estos datos en el dataframe\n",
        "cargos_totales_nulos = telecom['Cargos_totales'].isna() \n",
        "telecom[cargos_totales_nulos]"
      ]
    },
    {
      "cell_type": "code",
      "execution_count": 21,
      "metadata": {},
      "outputs": [],
      "source": [
        "# eliminar filas con valores nulos\n",
        "telecom = telecom.drop(telecom[cargos_totales_nulos].index, axis= 0)\n",
        "\n",
        " # aplicar reset al indice\n",
        "telecom = telecom.reset_index(drop=True)"
      ]
    },
    {
      "cell_type": "code",
      "execution_count": 22,
      "metadata": {},
      "outputs": [
        {
          "data": {
            "text/plain": [
              "Cargos_totales\n",
              "False    7256\n",
              "Name: count, dtype: int64"
            ]
          },
          "execution_count": 22,
          "metadata": {},
          "output_type": "execute_result"
        }
      ],
      "source": [
        "telecom['Cargos_totales'].isna().value_counts()"
      ]
    },
    {
      "cell_type": "code",
      "execution_count": 23,
      "metadata": {},
      "outputs": [
        {
          "data": {
            "text/plain": [
              "Cliente_id                 7256\n",
              "Cargos_totales             6530\n",
              "Cargos_mensuales           1584\n",
              "Meses_conectado              72\n",
              "Metodo_pago                   4\n",
              "Respaldo_en_linea             3\n",
              "Proeteccion_dispositivo       3\n",
              "Tipo_contrato                 3\n",
              "Peliculas_streaming           3\n",
              "TV_streaming                  3\n",
              "Soporte_tecnico               3\n",
              "Seguridad_en_linea            3\n",
              "Cancelacion                   3\n",
              "Servicio_internet             3\n",
              "Lineas_multiples              3\n",
              "Adulto_mayor                  2\n",
              "Servicio_telefono             2\n",
              "Factura_electronica           2\n",
              "Tiene_dependientes            2\n",
              "Tiene_pareja                  2\n",
              "Genero                        2\n",
              "dtype: int64"
            ]
          },
          "execution_count": 23,
          "metadata": {},
          "output_type": "execute_result"
        }
      ],
      "source": [
        "telecom.nunique().sort_values(ascending=False)"
      ]
    },
    {
      "cell_type": "code",
      "execution_count": 24,
      "metadata": {},
      "outputs": [
        {
          "name": "stdout",
          "output_type": "stream",
          "text": [
            "Cancelacion: ['No' 'Yes' '']\n",
            "============================================================\n",
            "Genero: ['Female' 'Male']\n",
            "============================================================\n",
            "Adulto_mayor: [0 1]\n",
            "============================================================\n",
            "Tiene_pareja: ['Yes' 'No']\n",
            "============================================================\n",
            "Tiene_dependientes: ['Yes' 'No']\n",
            "============================================================\n",
            "Meses_conectado: [ 9  4 13  3 71 63  7 65 54 72  5 56 34  1 45 50 23 55 26 69 11 37 49 66\n",
            " 67 20 43 59 12 27  2 25 29 14 35 64 39 40  6 30 70 57 58 16 32 33 10 21\n",
            " 61 15 44 22 24 19 47 62 46 52  8 60 48 28 41 53 68 51 31 36 17 18 38 42]\n",
            "============================================================\n",
            "Servicio_telefono: ['Yes' 'No']\n",
            "============================================================\n",
            "Lineas_multiples: ['No' 'Yes' 'No phone service']\n",
            "============================================================\n",
            "Servicio_internet: ['DSL' 'Fiber optic' 'No']\n",
            "============================================================\n",
            "Seguridad_en_linea: ['No' 'Yes' 'No internet service']\n",
            "============================================================\n",
            "Respaldo_en_linea: ['Yes' 'No' 'No internet service']\n",
            "============================================================\n",
            "Proeteccion_dispositivo: ['No' 'Yes' 'No internet service']\n",
            "============================================================\n",
            "Soporte_tecnico: ['Yes' 'No' 'No internet service']\n",
            "============================================================\n",
            "TV_streaming: ['Yes' 'No' 'No internet service']\n",
            "============================================================\n",
            "Peliculas_streaming: ['No' 'Yes' 'No internet service']\n",
            "============================================================\n",
            "Tipo_contrato: ['One year' 'Month-to-month' 'Two year']\n",
            "============================================================\n",
            "Factura_electronica: ['Yes' 'No']\n",
            "============================================================\n",
            "Metodo_pago: ['Mailed check' 'Electronic check' 'Credit card (automatic)'\n",
            " 'Bank transfer (automatic)']\n",
            "============================================================\n",
            "Cargos_mensuales: [65.6  59.9  73.9  ... 91.75 68.8  67.85]\n",
            "============================================================\n",
            "Cargos_totales: [ 593.3   542.4   280.85 ...  742.9  4627.65 3707.6 ]\n",
            "============================================================\n"
          ]
        }
      ],
      "source": [
        "# verificando errores de formato\n",
        "for val_columns in telecom.columns[1:]:\n",
        "    print(f\"{val_columns}: {telecom[val_columns].unique()}\")\n",
        "    print(\"==============================\"*2)\n",
        "\n"
      ]
    },
    {
      "cell_type": "code",
      "execution_count": 25,
      "metadata": {},
      "outputs": [
        {
          "data": {
            "text/plain": [
              "6934    9565-JSNFM\n",
              "6777    9365-CSLBQ\n",
              "1889    2675-OTVVJ\n",
              "1864    2656-FMOKZ\n",
              "2208    3090-LETTY\n",
              "3851    5287-QWLKY\n",
              "Name: Cliente_id, dtype: object"
            ]
          },
          "execution_count": 25,
          "metadata": {},
          "output_type": "execute_result"
        }
      ],
      "source": [
        "#limpieza columna id del cliente\n",
        "telecom['Cliente_id'] = telecom['Cliente_id'].str.strip()\n",
        "telecom['Cliente_id'].sample(6)"
      ]
    },
    {
      "cell_type": "code",
      "execution_count": 26,
      "metadata": {},
      "outputs": [],
      "source": [
        "# Limpieza de la columna tipo de contrato\n",
        "telecom['Tipo_contrato'] = telecom['Tipo_contrato'].str.lower()\n"
      ]
    },
    {
      "cell_type": "code",
      "execution_count": 27,
      "metadata": {},
      "outputs": [
        {
          "data": {
            "text/plain": [
              "5004    month to month\n",
              "3939    month to month\n",
              "3347          two year\n",
              "31            one year\n",
              "5539    month to month\n",
              "4513          two year\n",
              "1955    month to month\n",
              "Name: Tipo_contrato, dtype: object"
            ]
          },
          "execution_count": 27,
          "metadata": {},
          "output_type": "execute_result"
        }
      ],
      "source": [
        "telecom['Tipo_contrato'] = telecom['Tipo_contrato'].str.replace(r'\\-', ' ', regex=True)\n",
        "telecom['Tipo_contrato'].sample(7)"
      ]
    },
    {
      "cell_type": "code",
      "execution_count": 28,
      "metadata": {},
      "outputs": [
        {
          "data": {
            "text/plain": [
              "491       credit card (automatic)\n",
              "1399                 mailed check\n",
              "2886      credit card (automatic)\n",
              "5600    bank transfer (automatic)\n",
              "1653                 mailed check\n",
              "6583    bank transfer (automatic)\n",
              "Name: Metodo_pago, dtype: object"
            ]
          },
          "execution_count": 28,
          "metadata": {},
          "output_type": "execute_result"
        }
      ],
      "source": [
        "# limpieza de la columna Metodo_pago\n",
        "telecom['Metodo_pago'] =telecom['Metodo_pago'].str.lower()\n",
        "telecom['Metodo_pago'] = telecom['Metodo_pago'].str.replace(r'|', '', regex=True).str.strip()\n",
        "telecom['Metodo_pago'].sample(6)"
      ]
    },
    {
      "cell_type": "code",
      "execution_count": null,
      "metadata": {},
      "outputs": [
        {
          "data": {
            "text/plain": [
              "Cancelacion\n",
              "0    5163\n",
              "1    1869\n",
              "Name: count, dtype: Int64"
            ]
          },
          "execution_count": 43,
          "metadata": {},
          "output_type": "execute_result"
        }
      ],
      "source": [
        "telecom['Cancelacion'] = telecom['Cancelacion'].replace({'Yes': '1', 'No': '0', '': np.nan})\n",
        "telecom['Cancelacion'] = telecom['Cancelacion'].astype('Int64')\n",
        "telecom['Cancelacion'].value_counts()"
      ]
    },
    {
      "cell_type": "code",
      "execution_count": 39,
      "metadata": {},
      "outputs": [
        {
          "name": "stdout",
          "output_type": "stream",
          "text": [
            "<class 'pandas.core.frame.DataFrame'>\n",
            "RangeIndex: 7256 entries, 0 to 7255\n",
            "Data columns (total 21 columns):\n",
            " #   Column                   Non-Null Count  Dtype  \n",
            "---  ------                   --------------  -----  \n",
            " 0   Cliente_id               7256 non-null   object \n",
            " 1   Cancelacion              7256 non-null   object \n",
            " 2   Genero                   7256 non-null   object \n",
            " 3   Adulto_mayor             7256 non-null   int64  \n",
            " 4   Tiene_pareja             7256 non-null   object \n",
            " 5   Tiene_dependientes       7256 non-null   object \n",
            " 6   Meses_conectado          7256 non-null   int64  \n",
            " 7   Servicio_telefono        7256 non-null   object \n",
            " 8   Lineas_multiples         7256 non-null   object \n",
            " 9   Servicio_internet        7256 non-null   object \n",
            " 10  Seguridad_en_linea       7256 non-null   object \n",
            " 11  Respaldo_en_linea        7256 non-null   object \n",
            " 12  Proeteccion_dispositivo  7256 non-null   object \n",
            " 13  Soporte_tecnico          7256 non-null   object \n",
            " 14  TV_streaming             7256 non-null   object \n",
            " 15  Peliculas_streaming      7256 non-null   object \n",
            " 16  Tipo_contrato            7256 non-null   object \n",
            " 17  Factura_electronica      7256 non-null   object \n",
            " 18  Metodo_pago              7256 non-null   object \n",
            " 19  Cargos_mensuales         7256 non-null   float64\n",
            " 20  Cargos_totales           7256 non-null   float64\n",
            "dtypes: float64(2), int64(2), object(17)\n",
            "memory usage: 1.2+ MB\n"
          ]
        }
      ],
      "source": [
        "telecom.info()"
      ]
    },
    {
      "cell_type": "code",
      "execution_count": 54,
      "metadata": {},
      "outputs": [
        {
          "data": {
            "text/plain": [
              "0    2.186667\n",
              "1    1.996667\n",
              "2    2.463333\n",
              "3    3.266667\n",
              "4    2.796667\n",
              "Name: Cuentas_diarias, dtype: float64"
            ]
          },
          "execution_count": 54,
          "metadata": {},
          "output_type": "execute_result"
        }
      ],
      "source": [
        "telecom[\"Cuentas_diarias\"] = telecom[\"Cargos_mensuales\"]/30\n",
        "telecom[\"Cuentas_diarias\"].head(5)"
      ]
    },
    {
      "cell_type": "markdown",
      "metadata": {
        "id": "6XnTC2NTmMRL"
      },
      "source": [
        "#📊 Carga y análisis"
      ]
    },
    {
      "cell_type": "code",
      "execution_count": null,
      "metadata": {
        "id": "1jgUnLqTmPdd"
      },
      "outputs": [
        {
          "name": "stderr",
          "output_type": "stream",
          "text": [
            "C:\\Users\\Hp Pavilion\\AppData\\Local\\Temp\\ipykernel_13244\\1622767581.py:3: FutureWarning: \n",
            "\n",
            "Passing `palette` without assigning `hue` is deprecated and will be removed in v0.14.0. Assign the `x` variable to `hue` and set `legend=False` for the same effect.\n",
            "\n",
            "  sns.countplot(x=\"Cancelacion\", data=telecom, order=telecom[\"Cancelacion\"].value_counts().index, palette=\"Set2\")\n"
          ]
        },
        {
          "data": {
            "image/png": "[encoded data removed]",
            "text/plain": [
              "<Figure size 1000x600 with 1 Axes>"
            ]
          },
          "metadata": {},
          "output_type": "display_data"
        }
      ],
      "source": [
        "sns.set(style=\"whitegrid\")\n",
        "plt.rcParams['figure.figsize'] = (10, 6)\n",
        "sns.countplot(x=\"Cancelacion\", data=telecom, order=telecom[\"Cancelacion\"].value_counts().index, palette=\"Set2\")\n",
        "plt.xlabel(\"Cancelados (1) vs No cancelados (0)\")\n",
        "plt.ylabel(\"Número de clientes\")\n",
        "plt.legend([\"No cancelaron\", \"Cancelaron\"])\n",
        "plt.title(\"Distribución de clientes que no cancelaron en telecomX\")\n",
        "plt.show()\n",
        "\n"
      ]
    },
    {
      "cell_type": "markdown",
      "metadata": {},
      "source": [
        "#### Recuento de Evasion por Variable Categorica"
      ]
    },
    {
      "cell_type": "code",
      "execution_count": 56,
      "metadata": {},
      "outputs": [
        {
          "data": {
            "image/png": "[encoded data removed]",
            "text/plain": [
              "<Figure size 1200x1000 with 4 Axes>"
            ]
          },
          "metadata": {},
          "output_type": "display_data"
        }
      ],
      "source": [
        "bar_columns = [\"Genero\", \"Tipo_contrato\", \"Metodo_pago\", \"Servicio_telefono\"]\n",
        "\n",
        "fig, ax = plt.subplots(2, 2, figsize=(12, 10))\n",
        "fig.suptitle(\"Evasión de clientes por variables categóricas\")\n",
        "axes = ax.flatten()\n",
        "\n",
        "for i, col in enumerate(bar_columns):\n",
        "    cross = pd.crosstab(telecom[col], telecom[\"Cancelacion\"])\n",
        "    cross.plot(kind=\"bar\", ax=axes[i], rot=45, color=[\"#26e030\", \"#04407c\"])\n",
        "    axes[i].set_title(f\"Evasión de clientes por {bar_columns[i]}\")\n",
        "    axes[i].set_xlabel(\"\")\n",
        "    axes[i].set_ylabel(\"\")\n",
        "    axes[i].set_ylim(0, 5000)\n",
        "    axes[i].legend(title=\"Cancelacion\", labels=[\"0\", \"1\"])\n",
        "\n",
        "#plt.savefig(\"img/Evasion_de_clientes_por_variables_categoricas.png\")\n",
        "plt.tight_layout(rect=[0, 0.03, 1, 1])\n",
        "plt.show()"
      ]
    },
    {
      "cell_type": "markdown",
      "metadata": {
        "id": "v-WzfSvTmaw9"
      },
      "source": [
        "#📄Informe final"
      ]
    },
    {
      "cell_type": "code",
      "execution_count": null,
      "metadata": {
        "id": "XMTac0YJmeK9"
      },
      "outputs": [],
      "source": []
    }
  ],
  "metadata": {
    "colab": {
      "provenance": []
    },
    "kernelspec": {
      "display_name": "env-datascience",
      "language": "python",
      "name": "python3"
    },
    "language_info": {
      "codemirror_mode": {
        "name": "ipython",
        "version": 3
      },
      "file_extension": ".py",
      "mimetype": "text/x-python",
      "name": "python",
      "nbconvert_exporter": "python",
      "pygments_lexer": "ipython3",
      "version": "3.13.4"
    }
  },
  "nbformat": 4,
  "nbformat_minor": 0
}
